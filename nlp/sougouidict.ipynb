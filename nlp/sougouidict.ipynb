{
 "cells": [
  {
   "cell_type": "code",
   "execution_count": 1,
   "metadata": {},
   "outputs": [],
   "source": [
    "import requests\n",
    "from lxml import etree\n",
    "from tqdm.notebook import tqdm"
   ]
  },
  {
   "cell_type": "code",
   "execution_count": 2,
   "metadata": {},
   "outputs": [],
   "source": [
    "num = 1\n",
    "dict_url_list = []\n",
    "while True:\n",
    "    url = f'https://pinyin.sogou.com/dict/cate/index/113/default/{num}'\n",
    "    html = requests.get(url).text\n",
    "    tree = etree.HTML(html)\n",
    "    for t, e in zip(tree.xpath('//div[@class=\"detail_title\"]/a/text()'), tree.xpath('//div[@class=\"dict_dl_btn\"]/a/@href')):\n",
    "        dict_url_list.append((t, e))\n",
    "    if \"下一页\" in html:\n",
    "        num+=1\n",
    "    else:\n",
    "        break"
   ]
  },
  {
   "cell_type": "code",
   "execution_count": 3,
   "metadata": {},
   "outputs": [
    {
     "data": {
      "text/plain": [
       "68"
      ]
     },
     "execution_count": 3,
     "metadata": {},
     "output_type": "execute_result"
    }
   ],
   "source": [
    "len(dict_url_list)"
   ]
  },
  {
   "cell_type": "code",
   "execution_count": 6,
   "metadata": {},
   "outputs": [
    {
     "ename": "ImportError",
     "evalue": "IProgress not found. Please update jupyter and ipywidgets. See https://ipywidgets.readthedocs.io/en/stable/user_install.html",
     "output_type": "error",
     "traceback": [
      "\u001b[1;31m---------------------------------------------------------------------------\u001b[0m",
      "\u001b[1;31mImportError\u001b[0m                               Traceback (most recent call last)",
      "Cell \u001b[1;32mIn[6], line 5\u001b[0m\n\u001b[0;32m      3\u001b[0m idx \u001b[39m=\u001b[39m [\u001b[39m119\u001b[39m,\u001b[39m117\u001b[39m,\u001b[39m103\u001b[39m,\u001b[39m108\u001b[39m,\u001b[39m109\u001b[39m,\u001b[39m110\u001b[39m,\u001b[39m111\u001b[39m,\u001b[39m112\u001b[39m,\u001b[39m114\u001b[39m,\u001b[39m115\u001b[39m,\u001b[39m117\u001b[39m,\u001b[39m118\u001b[39m,\u001b[39m123\u001b[39m,\u001b[39m125\u001b[39m]\n\u001b[0;32m      4\u001b[0m dict_url_list1\u001b[39m=\u001b[39m []\n\u001b[1;32m----> 5\u001b[0m \u001b[39mfor\u001b[39;00m idx, i \u001b[39min\u001b[39;00m tqdm(\u001b[39menumerate\u001b[39;49m(idx)):\n\u001b[0;32m      6\u001b[0m     num\u001b[39m=\u001b[39m\u001b[39m1\u001b[39m\n\u001b[0;32m      7\u001b[0m     \u001b[39mwhile\u001b[39;00m \u001b[39mTrue\u001b[39;00m:\n",
      "File \u001b[1;32mc:\\ProgramData\\miniconda3\\lib\\site-packages\\tqdm\\notebook.py:238\u001b[0m, in \u001b[0;36mtqdm_notebook.__init__\u001b[1;34m(self, *args, **kwargs)\u001b[0m\n\u001b[0;32m    236\u001b[0m unit_scale \u001b[39m=\u001b[39m \u001b[39m1\u001b[39m \u001b[39mif\u001b[39;00m \u001b[39mself\u001b[39m\u001b[39m.\u001b[39munit_scale \u001b[39mis\u001b[39;00m \u001b[39mTrue\u001b[39;00m \u001b[39melse\u001b[39;00m \u001b[39mself\u001b[39m\u001b[39m.\u001b[39munit_scale \u001b[39mor\u001b[39;00m \u001b[39m1\u001b[39m\n\u001b[0;32m    237\u001b[0m total \u001b[39m=\u001b[39m \u001b[39mself\u001b[39m\u001b[39m.\u001b[39mtotal \u001b[39m*\u001b[39m unit_scale \u001b[39mif\u001b[39;00m \u001b[39mself\u001b[39m\u001b[39m.\u001b[39mtotal \u001b[39melse\u001b[39;00m \u001b[39mself\u001b[39m\u001b[39m.\u001b[39mtotal\n\u001b[1;32m--> 238\u001b[0m \u001b[39mself\u001b[39m\u001b[39m.\u001b[39mcontainer \u001b[39m=\u001b[39m \u001b[39mself\u001b[39;49m\u001b[39m.\u001b[39;49mstatus_printer(\u001b[39mself\u001b[39;49m\u001b[39m.\u001b[39;49mfp, total, \u001b[39mself\u001b[39;49m\u001b[39m.\u001b[39;49mdesc, \u001b[39mself\u001b[39;49m\u001b[39m.\u001b[39;49mncols)\n\u001b[0;32m    239\u001b[0m \u001b[39mself\u001b[39m\u001b[39m.\u001b[39mcontainer\u001b[39m.\u001b[39mpbar \u001b[39m=\u001b[39m proxy(\u001b[39mself\u001b[39m)\n\u001b[0;32m    240\u001b[0m \u001b[39mself\u001b[39m\u001b[39m.\u001b[39mdisplayed \u001b[39m=\u001b[39m \u001b[39mFalse\u001b[39;00m\n",
      "File \u001b[1;32mc:\\ProgramData\\miniconda3\\lib\\site-packages\\tqdm\\notebook.py:113\u001b[0m, in \u001b[0;36mtqdm_notebook.status_printer\u001b[1;34m(_, total, desc, ncols)\u001b[0m\n\u001b[0;32m    104\u001b[0m \u001b[39m# Fallback to text bar if there's no total\u001b[39;00m\n\u001b[0;32m    105\u001b[0m \u001b[39m# DEPRECATED: replaced with an 'info' style bar\u001b[39;00m\n\u001b[0;32m    106\u001b[0m \u001b[39m# if not total:\u001b[39;00m\n\u001b[1;32m   (...)\u001b[0m\n\u001b[0;32m    110\u001b[0m \n\u001b[0;32m    111\u001b[0m \u001b[39m# Prepare IPython progress bar\u001b[39;00m\n\u001b[0;32m    112\u001b[0m \u001b[39mif\u001b[39;00m IProgress \u001b[39mis\u001b[39;00m \u001b[39mNone\u001b[39;00m:  \u001b[39m# #187 #451 #558 #872\u001b[39;00m\n\u001b[1;32m--> 113\u001b[0m     \u001b[39mraise\u001b[39;00m \u001b[39mImportError\u001b[39;00m(WARN_NOIPYW)\n\u001b[0;32m    114\u001b[0m \u001b[39mif\u001b[39;00m total:\n\u001b[0;32m    115\u001b[0m     pbar \u001b[39m=\u001b[39m IProgress(\u001b[39mmin\u001b[39m\u001b[39m=\u001b[39m\u001b[39m0\u001b[39m, \u001b[39mmax\u001b[39m\u001b[39m=\u001b[39mtotal)\n",
      "\u001b[1;31mImportError\u001b[0m: IProgress not found. Please update jupyter and ipywidgets. See https://ipywidgets.readthedocs.io/en/stable/user_install.html"
     ]
    }
   ],
   "source": [
    "# https://pinyin.sogou.com/dict/cate/index/117\n",
    "\n",
    "idx = [119,117,103,108,109,110,111,112,114,115,117,118,123,125]\n",
    "dict_url_list1= []\n",
    "for idx, i in tqdm(enumerate(idx)):\n",
    "    num=1\n",
    "    while True:\n",
    "        url = f'https://pinyin.sogou.com/dict/cate/index/{idx}/default/{num}'\n",
    "        html = requests.get(url).text\n",
    "        tree = etree.HTML(html)\n",
    "        try:\n",
    "            for t, e in zip(tree.xpath('//div[@class=\"detail_title\"]/a/text()'), tree.xpath('//div[@class=\"dict_dl_btn\"]/a/@href')):\n",
    "                dict_url_list1.append((t, e))\n",
    "        except:\n",
    "            pass\n",
    "        if \"下一页\" in html:\n",
    "            num+=1\n",
    "        else:\n",
    "            break"
   ]
  },
  {
   "cell_type": "code",
   "execution_count": 4,
   "metadata": {},
   "outputs": [
    {
     "data": {
      "text/plain": [
       "[('建筑词汇大全【官方推荐】',\n",
       "  'https://pinyin.sogou.com/dict/download_cell.php?id=15118&name=%E5%BB%BA%E7%AD%91%E8%AF%8D%E6%B1%87%E5%A4%A7%E5%85%A8%E3%80%90%E5%AE%98%E6%96%B9%E6%8E%A8%E8%8D%90%E3%80%91'),\n",
       " ('建筑、结构',\n",
       "  'https://pinyin.sogou.com/dict/download_cell.php?id=10217&name=%E5%BB%BA%E7%AD%91%E3%80%81%E7%BB%93%E6%9E%84'),\n",
       " ('建筑及相关专业',\n",
       "  'https://pinyin.sogou.com/dict/download_cell.php?id=8618&name=%E5%BB%BA%E7%AD%91%E5%8F%8A%E7%9B%B8%E5%85%B3%E4%B8%93%E4%B8%9A'),\n",
       " ('建筑城市',\n",
       "  'https://pinyin.sogou.com/dict/download_cell.php?id=152&name=%E5%BB%BA%E7%AD%91%E5%9F%8E%E5%B8%82'),\n",
       " ('建筑结构',\n",
       "  'https://pinyin.sogou.com/dict/download_cell.php?id=1351&name=%E5%BB%BA%E7%AD%91%E7%BB%93%E6%9E%84'),\n",
       " ('建筑词库',\n",
       "  'https://pinyin.sogou.com/dict/download_cell.php?id=603&name=%E5%BB%BA%E7%AD%91%E8%AF%8D%E5%BA%93'),\n",
       " ('建筑电气',\n",
       "  'https://pinyin.sogou.com/dict/download_cell.php?id=1398&name=%E5%BB%BA%E7%AD%91%E7%94%B5%E6%B0%94'),\n",
       " ('建筑电气（住宅篇）',\n",
       "  'https://pinyin.sogou.com/dict/download_cell.php?id=5664&name=%E5%BB%BA%E7%AD%91%E7%94%B5%E6%B0%94%EF%BC%88%E4%BD%8F%E5%AE%85%E7%AF%87%EF%BC%89'),\n",
       " ('中国古建筑专业词库',\n",
       "  'https://pinyin.sogou.com/dict/download_cell.php?id=304&name=%E4%B8%AD%E5%9B%BD%E5%8F%A4%E5%BB%BA%E7%AD%91%E4%B8%93%E4%B8%9A%E8%AF%8D%E5%BA%93'),\n",
       " ('建筑资料',\n",
       "  'https://pinyin.sogou.com/dict/download_cell.php?id=10587&name=%E5%BB%BA%E7%AD%91%E8%B5%84%E6%96%99')]"
      ]
     },
     "execution_count": 4,
     "metadata": {},
     "output_type": "execute_result"
    }
   ],
   "source": [
    "dict_url_list[:10]"
   ]
  },
  {
   "cell_type": "code",
   "execution_count": 15,
   "metadata": {},
   "outputs": [],
   "source": [
    "import pandas as pd\n",
    "import numpy as np"
   ]
  },
  {
   "cell_type": "code",
   "execution_count": 68,
   "metadata": {},
   "outputs": [],
   "source": [
    "ques_list = []\n",
    "for i in range(1,7):\n",
    "    sheet_list = []\n",
    "    df = pd.read_excel(r\"D:\\Users\\Desktop\\语音场景相似句.xlsx\",engine='openpyxl',sheet_name=i)\n",
    "    for i in range(len(df)):\n",
    "        sheet_list.append([ques.split('\\n')[0].strip() for ques in  df.loc[i].to_list()[0:] if type(ques)!=float])\n",
    "    ques_list.append(sheet_list)"
   ]
  },
  {
   "cell_type": "code",
   "execution_count": 75,
   "metadata": {},
   "outputs": [],
   "source": [
    "with open(r'D:\\Users\\Desktop\\语音场景相似句_v1.txt','w') as f:\n",
    "    for ques in ques_list: \n",
    "        # f.write()\n",
    "        for q in ques:\n",
    "            f.write('\\n'.join(q)+'\\n')\n",
    "    "
   ]
  },
  {
   "cell_type": "code",
   "execution_count": 44,
   "metadata": {},
   "outputs": [
    {
     "data": {
      "text/plain": [
       "['哪些空调没关', '有空调没有关吗', '空调忘关的有哪些', '未关闭的空调的实验室有哪些']"
      ]
     },
     "execution_count": 44,
     "metadata": {},
     "output_type": "execute_result"
    }
   ],
   "source": [
    "t"
   ]
  }
 ],
 "metadata": {
  "kernelspec": {
   "display_name": "base",
   "language": "python",
   "name": "python3"
  },
  "language_info": {
   "codemirror_mode": {
    "name": "ipython",
    "version": 3
   },
   "file_extension": ".py",
   "mimetype": "text/x-python",
   "name": "python",
   "nbconvert_exporter": "python",
   "pygments_lexer": "ipython3",
   "version": "3.10.10"
  },
  "orig_nbformat": 4
 },
 "nbformat": 4,
 "nbformat_minor": 2
}
