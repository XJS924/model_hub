{
 "cells": [
  {
   "cell_type": "code",
   "execution_count": 2,
   "metadata": {},
   "outputs": [],
   "source": [
    "import requests\n",
    "from lxml import etree\n",
    "from tqdm.notebook import tqdm\n",
    "from time import time\n",
    "# import pinyin\n",
    "import pypinyin\n",
    "from pypinyin import pinyin,lazy_pinyin\n",
    "import jieba\n",
    "import re"
   ]
  },
  {
   "cell_type": "code",
   "execution_count": 3,
   "metadata": {},
   "outputs": [],
   "source": [
    "entity = requests.post(\"http://robotsit.suning.com/skill/queryWordEntity\").json()['data']\n",
    "\n",
    "with open(r'D:\\Users\\Desktop\\slot_hanzi.txt','w',encoding='utf8') as f:\n",
    "    for e in entity:\n",
    "        f.write(e['entityName']+\"\\n\")\n",
    "        # print(e)\n",
    "        # break"
   ]
  },
  {
   "cell_type": "code",
   "execution_count": 4,
   "metadata": {},
   "outputs": [
    {
     "name": "stdout",
     "output_type": "stream",
     "text": [
      "一二四三\n"
     ]
    },
    {
     "ename": "NameError",
     "evalue": "name 'cat_list_py' is not defined",
     "output_type": "error",
     "traceback": [
      "\u001b[1;31m---------------------------------------------------------------------------\u001b[0m",
      "\u001b[1;31mNameError\u001b[0m                                 Traceback (most recent call last)",
      "Cell \u001b[1;32mIn[4], line 28\u001b[0m\n\u001b[0;32m     26\u001b[0m     \u001b[39mreturn\u001b[39;00m result\n\u001b[0;32m     27\u001b[0m \u001b[39mprint\u001b[39m(dig_convert(\u001b[39m'\u001b[39m\u001b[39m1243\u001b[39m\u001b[39m'\u001b[39m))\n\u001b[1;32m---> 28\u001b[0m \u001b[39mprint\u001b[39m(py_withspace(\u001b[39m'\u001b[39;49m\u001b[39mB201七件事\u001b[39;49m\u001b[39m'\u001b[39;49m),py_withspace(\u001b[39m'\u001b[39m\u001b[39m事\u001b[39m\u001b[39m'\u001b[39m))\n\u001b[0;32m     29\u001b[0m \u001b[39mprint\u001b[39m((time()\u001b[39m-\u001b[39ms)\u001b[39m*\u001b[39m\u001b[39m1000\u001b[39m)\n",
      "Cell \u001b[1;32mIn[4], line 15\u001b[0m, in \u001b[0;36mpy_withspace\u001b[1;34m(txt, heteronym)\u001b[0m\n\u001b[0;32m      6\u001b[0m py_result \u001b[39m=\u001b[39m pinyin(txt, heteronym\u001b[39m=\u001b[39mheteronym,style\u001b[39m=\u001b[39m\u001b[39m0\u001b[39m)\n\u001b[0;32m      7\u001b[0m \u001b[39m# result = [[] for i in range(len(py_result))]\u001b[39;00m\n\u001b[0;32m      8\u001b[0m \u001b[39m# for idx, ii in  enumerate(py_result):\u001b[39;00m\n\u001b[0;32m      9\u001b[0m \u001b[39m#     for i in ii:\u001b[39;00m\n\u001b[1;32m   (...)\u001b[0m\n\u001b[0;32m     12\u001b[0m \u001b[39m#         else:\u001b[39;00m\n\u001b[0;32m     13\u001b[0m \u001b[39m#             result[idx].append(i)\u001b[39;00m\n\u001b[1;32m---> 15\u001b[0m \u001b[39mreturn\u001b[39;00m cat_list_py(py_result)\n",
      "\u001b[1;31mNameError\u001b[0m: name 'cat_list_py' is not defined"
     ]
    }
   ],
   "source": [
    "s = time()\n",
    "def py(txt):\n",
    "    return pinyin.get(txt, format=\"strip\", delimiter=\"\")\n",
    "\n",
    "def py_withspace(txt,heteronym=True):\n",
    "    py_result = pinyin(txt, heteronym=heteronym,style=0)\n",
    "    # result = [[] for i in range(len(py_result))]\n",
    "    # for idx, ii in  enumerate(py_result):\n",
    "    #     for i in ii:\n",
    "    #         if len(i)>1 and i[-1] in ['1','2','3','4']:\n",
    "    #             result[idx].append(i[:-1])\n",
    "    #         else:\n",
    "    #             result[idx].append(i)\n",
    "\n",
    "    return cat_list_py(py_result)\n",
    "\n",
    "def py_lazy(txt):\n",
    "    return \" \".join(lazy_pinyin(txt))\n",
    "\n",
    "digital_dict={'1':'一','2':'二','3':'三',\"4\":'四','5':'五',\"6\":\"六\",\"7\":\"七\",\"8\":\"八\",\"9\":\"九\",\"0\":\"零\"}\n",
    "\n",
    "def dig_convert(txt):\n",
    "    result = ''\n",
    "    for x in txt:\n",
    "        result+=digital_dict.get(x,x)\n",
    "    return result\n",
    "print(dig_convert('1243'))\n",
    "print(py_withspace('B201七件事'),py_withspace('事'))\n",
    "print((time()-s)*1000)"
   ]
  },
  {
   "cell_type": "code",
   "execution_count": 5,
   "metadata": {},
   "outputs": [],
   "source": [
    "def pinyin_aug_1(txt):\n",
    "    \"\"\"\n",
    "    zh,ch,sh - > z,c,s...\n",
    "    \"\"\"\n",
    "    if 'zh' in txt:\n",
    "        txt = txt.replace('zh','z')\n",
    "    if 'ch' in txt:\n",
    "        txt = txt.replace('ch','c')\n",
    "    if 'sh' in txt:\n",
    "        txt = txt.replace('sh','s')\n",
    "    return txt\n",
    "    \n",
    "def pinyin_aug_11(txt):\n",
    "    if 'ing' in txt:\n",
    "        txt = txt.replace('ing','in')\n",
    "    if 'ang' in txt:\n",
    "        txt = txt.replace('ang','an')\n",
    "    if 'eng' in txt:\n",
    "        txt = txt.replace('eng','en')\n",
    "    if 'ong' in txt:\n",
    "        txt = txt.replace('ong','un')\n",
    "    return txt\n",
    "\n",
    "def pinyin_aug_2(txt):\n",
    "    \"\"\"\n",
    "    z,c,s -> zh,ch,sh ...\n",
    "    \"\"\"\n",
    "    if 'z' in txt and 'zh' not in txt:\n",
    "        txt = txt.replace('z','zh')\n",
    "    if 'c' in txt and 'ch' not in txt:\n",
    "        txt = txt.replace('c','ch')\n",
    "    if 's' in txt and 'sh' not in txt:\n",
    "        txt = txt.replace('s','sh')\n",
    "    return txt\n",
    "\n",
    "def pinyin_aug_22(txt):\n",
    "    if 'in' in txt and 'ing' not in txt:\n",
    "        txt = txt.replace('in','ing')\n",
    "    if 'an' in txt and 'ang' not in txt:\n",
    "        txt = txt.replace('an','ang')\n",
    "    if 'en' in txt and 'eng' not in txt:\n",
    "        txt = txt.replace('en','eng')\n",
    "    if 'un' in txt and 'ong' not in txt :\n",
    "        txt = txt.replace('un','ong')\n",
    "    return txt\n",
    "\n",
    "def pinyin_aug_3(txt):\n",
    "    \"\"\"\n",
    "    l<-->n\n",
    "    \"\"\"\n",
    "    if txt.startswith('l'):\n",
    "        txt = txt.replace('l','n')\n",
    "    elif txt.startswith('n'):\n",
    "        txt = txt.replace('n','l')\n",
    "    return txt"
   ]
  },
  {
   "cell_type": "code",
   "execution_count": 6,
   "metadata": {},
   "outputs": [
    {
     "data": {
      "text/plain": [
       "['jie jia ri',\n",
       " 'jie jia 3',\n",
       " 'jie 1 ri',\n",
       " 'jie 1 3',\n",
       " 'jie 2 ri',\n",
       " 'jie 2 3',\n",
       " 'ji jia ri',\n",
       " 'ji jia 3',\n",
       " 'ji 1 ri',\n",
       " 'ji 1 3',\n",
       " 'ji 2 ri',\n",
       " 'ji 2 3']"
      ]
     },
     "execution_count": 6,
     "metadata": {},
     "output_type": "execute_result"
    }
   ],
   "source": [
    "## 拼音增强方法\n",
    "def cat_list_py(list_py):\n",
    "    result = []\n",
    "    count = 0\n",
    "    ss =''\n",
    "    def func(list_py, count, result, ss):\n",
    "        cur_list= list_py[count]\n",
    "        for cur in cur_list:\n",
    "            if count+1  < len(list_py):\n",
    "                func(list_py, count+1 , result , ss + \" \"+cur)\n",
    "            else:\n",
    "                result.append(ss + \" \"+cur)\n",
    "    func(list_py, count, result, ss)\n",
    "    return [r.strip() for r in result]\n",
    "\n",
    "cat_list_py([['jie','ji'], ['jia','1','2'], ['ri','3']])"
   ]
  },
  {
   "cell_type": "code",
   "execution_count": 32,
   "metadata": {},
   "outputs": [],
   "source": [
    "### 获取所有词槽的拼音及变形\n",
    "from tqdm.notebook import tqdm\n",
    "re_sub = lambda x:\"\".join(re.findall('[\\u4e00-\\u9fa5a-zA-Z0-9]+',x))\n",
    "def create_han_pin_dict(entity):\n",
    "    han_pinyin = {}\n",
    "    han_pinyin_reverse = {}\n",
    "    for e in tqdm(entity):\n",
    "        name = re_sub(e['entityName'])\n",
    "        py_lists = py_withspace(name)\n",
    "        for py_list in py_lists:\n",
    "            py_list_size = len(py_list.split())\n",
    "            if py_list_size>=6 or py_list_size<=1:\n",
    "                han_pinyin.setdefault(name,[]).append(py_list)\n",
    "                han_pinyin_reverse.setdefault(py_list.lower(),[]).append(name)\n",
    "            else:\n",
    "                list_py = [[] for i in range(py_list_size)]\n",
    "                for idx, word in enumerate(py_list.split()):\n",
    "                    list_py[idx].append(pinyin_aug_1(word))\n",
    "                    list_py[idx].append(pinyin_aug_11(word))\n",
    "                    list_py[idx].append(pinyin_aug_2(word))\n",
    "                    list_py[idx].append(pinyin_aug_22(word))\n",
    "                    list_py[idx].append(pinyin_aug_3(word))\n",
    "                for pin in set(cat_list_py(list_py)):\n",
    "                    han_pinyin.setdefault(name,[]).append(pin)\n",
    "                    han_pinyin_reverse.setdefault(pin.lower(),[]).append(name)\n",
    "    return han_pinyin,han_pinyin_reverse"
   ]
  },
  {
   "cell_type": "code",
   "execution_count": 35,
   "metadata": {},
   "outputs": [
    {
     "data": {
      "text/plain": [
       "['B101']"
      ]
     },
     "execution_count": 35,
     "metadata": {},
     "output_type": "execute_result"
    }
   ],
   "source": [
    "han_pinyin_reverse['b101']"
   ]
  },
  {
   "cell_type": "code",
   "execution_count": 9,
   "metadata": {},
   "outputs": [
    {
     "data": {
      "text/plain": [
       "('cen', '|||', 'chen', '||', 'chen')"
      ]
     },
     "execution_count": 9,
     "metadata": {},
     "output_type": "execute_result"
    }
   ],
   "source": [
    "x = 'chen'\n",
    "pinyin_aug_1(x),'|||',pinyin_aug_2(x),'||',pinyin_aug_3(x)"
   ]
  },
  {
   "cell_type": "code",
   "execution_count": 19,
   "metadata": {},
   "outputs": [
    {
     "data": {
      "text/plain": [
       "['b101']"
      ]
     },
     "execution_count": 19,
     "metadata": {},
     "output_type": "execute_result"
    }
   ],
   "source": [
    "han_pinyin_reverse['b101'.lower()]"
   ]
  },
  {
   "cell_type": "code",
   "execution_count": 33,
   "metadata": {},
   "outputs": [
    {
     "data": {
      "application/vnd.jupyter.widget-view+json": {
       "model_id": "b1309a27e35e44a4b63a2d59fdee88f7",
       "version_major": 2,
       "version_minor": 0
      },
      "text/plain": [
       "  0%|          | 0/4982 [00:00<?, ?it/s]"
      ]
     },
     "metadata": {},
     "output_type": "display_data"
    }
   ],
   "source": [
    "han_pinyin,han_pinyin_reverse = create_han_pin_dict(entity)"
   ]
  },
  {
   "cell_type": "code",
   "execution_count": 11,
   "metadata": {},
   "outputs": [],
   "source": [
    "dic_small = r'D:\\Users\\Desktop\\user_s.dic'\n",
    "dic_large = r'D:\\Users\\Desktop\\user_l.dic'\n",
    "with open(dic_small,'w',encoding='utf8') as f:\n",
    "    f.write('\\n'.join([word.lower() for word in han_pinyin_reverse.keys()]))"
   ]
  },
  {
   "cell_type": "code",
   "execution_count": 12,
   "metadata": {},
   "outputs": [],
   "source": [
    "with open(r'D:\\Users\\Desktop\\slot_pin_aug.txt','w') as f:\n",
    "    f.write('\\n'.join(list(han_pinyin_reverse.keys())))"
   ]
  },
  {
   "cell_type": "code",
   "execution_count": 20,
   "metadata": {},
   "outputs": [
    {
     "data": {
      "text/plain": [
       "True"
      ]
     },
     "execution_count": 20,
     "metadata": {},
     "output_type": "execute_result"
    }
   ],
   "source": [
    "'b101' in han_pinyin_reverse"
   ]
  },
  {
   "cell_type": "code",
   "execution_count": 14,
   "metadata": {},
   "outputs": [
    {
     "name": "stderr",
     "output_type": "stream",
     "text": [
      "Building prefix dict from the default dictionary ...\n",
      "Loading model from cache C:\\Users\\19052450\\AppData\\Local\\Temp\\jieba.cache\n",
      "Loading model cost 0.770 seconds.\n",
      "Prefix dict has been built successfully.\n"
     ]
    }
   ],
   "source": [
    "del jieba\n",
    "import jieba, re\n",
    "jieba.re_han_default = re.compile(\"(.+)\", re.U)\n",
    "jieba.re_userdict = re.compile('^(.+?)(\\u0040\\u0040[0-9]+)?(\\u0040\\u0040[a-z]+)?$', re.U)\n",
    "jieba.re_han_cut_all = re.compile(\"(.+)\", re.U)\n",
    "jieba.load_userdict(dic_small)\n"
   ]
  },
  {
   "cell_type": "code",
   "execution_count": 41,
   "metadata": {},
   "outputs": [],
   "source": [
    "def match_pinyin(txt):\n",
    "    \"\"\"\n",
    "    转拼音模糊匹配\n",
    "    \"\"\"\n",
    "    match_result = []\n",
    "    print(f\"词槽数量:{len(han_pinyin)}\")\n",
    "    print(f\"语音转文本后：{txt}\")\n",
    "    # txt_convert_dig = dig_convert(txt)\n",
    "    # print(f\"转大写数字后：{txt_convert_dig}\")\n",
    "    txt_py = py_withspace(re_sub(txt),False)[0]\n",
    "    print(f\"转拼音后txt_py list：{txt_py.split()}\")\n",
    "    # for txt_py in txt_pys:\n",
    "    txt_py_list = txt_py.split()\n",
    "    print(f'txt_py_list:{txt_py_list}')\n",
    "    cut_words = jieba.lcut(txt_py)\n",
    "    seg_result = []\n",
    "    pos = 0\n",
    "    for idx, word in enumerate(cut_words):\n",
    "        seg_result.append((pos,word))\n",
    "        pos += len(word)\n",
    "    print(f\"转拼音切词后cut_words：{cut_words}\")\n",
    "    for idx, word in enumerate(seg_result):\n",
    "        pos, w = word\n",
    "        if w==' ':\n",
    "            continue\n",
    "        if w not in txt_py_list and len(set(w.split()) & set(txt_py_list))==0:\n",
    "            continue\n",
    "        if w in han_pinyin_reverse:\n",
    "            print(w)\n",
    "            match_result.append((pos,han_pinyin_reverse[w]))\n",
    "    return match_result"
   ]
  },
  {
   "cell_type": "code",
   "execution_count": 40,
   "metadata": {},
   "outputs": [
    {
     "data": {
      "text/plain": [
       "True"
      ]
     },
     "execution_count": 40,
     "metadata": {},
     "output_type": "execute_result"
    }
   ],
   "source": [
    "'b101' in han_pinyin_reverse"
   ]
  },
  {
   "cell_type": "code",
   "execution_count": 42,
   "metadata": {},
   "outputs": [
    {
     "name": "stdout",
     "output_type": "stream",
     "text": [
      "词槽数量:4863\n",
      "语音转文本后：将b1011-通风柜风量调到最大\n",
      "转拼音后txt_py list：['jiang', 'b1011', 'tong', 'feng', 'gui', 'feng', 'liang', 'diao', 'dao', 'zui', 'da']\n",
      "转拼音切词后cut_words：['jia', 'ng', ' ', 'b101', '1 tong feng gui', ' ', 'feng', ' ', 'li', 'an', 'g', ' ', 'diao', ' ', 'dao', ' ', 'zui', ' ', 'da']\n",
      "1 tong feng gui\n",
      "dao\n",
      "匹配结果:[(10, ['1通风柜', '1通风柜', '1通风柜']), (42, ['氘'])]\n",
      "*********耗时：4.015207290649414 ms************\n",
      "\n"
     ]
    }
   ],
   "source": [
    "start = time()\n",
    "txt = '将b1011-通风柜风量调到最大'\n",
    "# txt = '氧气r,核尘是'\n",
    "print(f\"匹配结果:{match_pinyin(txt.lower())}\")\n",
    "print(f\"*********耗时：{1000*(time()-start)} ms************\\n\")"
   ]
  },
  {
   "cell_type": "code",
   "execution_count": 54,
   "metadata": {},
   "outputs": [
    {
     "data": {
      "text/plain": [
       "'<p>1</p>'"
      ]
     },
     "execution_count": 54,
     "metadata": {},
     "output_type": "execute_result"
    }
   ],
   "source": [
    "import requests\n",
    "requests.post(\"http://127.0.0.1:5000/update\",json={\"USE_PINYIN\":1},headers = {'Content-Type':'application/json'}).text"
   ]
  },
  {
   "cell_type": "code",
   "execution_count": 153,
   "metadata": {},
   "outputs": [
    {
     "data": {
      "text/plain": [
       "'qing yang hua la ，1201'"
      ]
     },
     "execution_count": 153,
     "metadata": {},
     "output_type": "execute_result"
    }
   ],
   "source": [
    "py_withspace('氢氧化啦，1201',False)[0]\n",
    "# jieba.lcut('qing yang hua la,1201')"
   ]
  },
  {
   "cell_type": "code",
   "execution_count": 2,
   "metadata": {},
   "outputs": [],
   "source": [
    "num = 1\n",
    "dict_url_list = []\n",
    "while True:\n",
    "    url = f'https://pinyin.sogou.com/dict/cate/index/113/default/{num}'\n",
    "    html = requests.get(url).text\n",
    "    tree = etree.HTML(html)\n",
    "    for t, e in zip(tree.xpath('//div[@class=\"detail_title\"]/a/text()'), tree.xpath('//div[@class=\"dict_dl_btn\"]/a/@href')):\n",
    "        dict_url_list.append((t, e))\n",
    "    if \"下一页\" in html:\n",
    "        num+=1\n",
    "    else:\n",
    "        break"
   ]
  },
  {
   "cell_type": "code",
   "execution_count": 3,
   "metadata": {},
   "outputs": [
    {
     "data": {
      "text/plain": [
       "68"
      ]
     },
     "execution_count": 3,
     "metadata": {},
     "output_type": "execute_result"
    }
   ],
   "source": [
    "len(dict_url_list)"
   ]
  },
  {
   "cell_type": "code",
   "execution_count": 6,
   "metadata": {},
   "outputs": [
    {
     "ename": "ImportError",
     "evalue": "IProgress not found. Please update jupyter and ipywidgets. See https://ipywidgets.readthedocs.io/en/stable/user_install.html",
     "output_type": "error",
     "traceback": [
      "\u001b[1;31m---------------------------------------------------------------------------\u001b[0m",
      "\u001b[1;31mImportError\u001b[0m                               Traceback (most recent call last)",
      "Cell \u001b[1;32mIn[6], line 5\u001b[0m\n\u001b[0;32m      3\u001b[0m idx \u001b[39m=\u001b[39m [\u001b[39m119\u001b[39m,\u001b[39m117\u001b[39m,\u001b[39m103\u001b[39m,\u001b[39m108\u001b[39m,\u001b[39m109\u001b[39m,\u001b[39m110\u001b[39m,\u001b[39m111\u001b[39m,\u001b[39m112\u001b[39m,\u001b[39m114\u001b[39m,\u001b[39m115\u001b[39m,\u001b[39m117\u001b[39m,\u001b[39m118\u001b[39m,\u001b[39m123\u001b[39m,\u001b[39m125\u001b[39m]\n\u001b[0;32m      4\u001b[0m dict_url_list1\u001b[39m=\u001b[39m []\n\u001b[1;32m----> 5\u001b[0m \u001b[39mfor\u001b[39;00m idx, i \u001b[39min\u001b[39;00m tqdm(\u001b[39menumerate\u001b[39;49m(idx)):\n\u001b[0;32m      6\u001b[0m     num\u001b[39m=\u001b[39m\u001b[39m1\u001b[39m\n\u001b[0;32m      7\u001b[0m     \u001b[39mwhile\u001b[39;00m \u001b[39mTrue\u001b[39;00m:\n",
      "File \u001b[1;32mc:\\ProgramData\\miniconda3\\lib\\site-packages\\tqdm\\notebook.py:238\u001b[0m, in \u001b[0;36mtqdm_notebook.__init__\u001b[1;34m(self, *args, **kwargs)\u001b[0m\n\u001b[0;32m    236\u001b[0m unit_scale \u001b[39m=\u001b[39m \u001b[39m1\u001b[39m \u001b[39mif\u001b[39;00m \u001b[39mself\u001b[39m\u001b[39m.\u001b[39munit_scale \u001b[39mis\u001b[39;00m \u001b[39mTrue\u001b[39;00m \u001b[39melse\u001b[39;00m \u001b[39mself\u001b[39m\u001b[39m.\u001b[39munit_scale \u001b[39mor\u001b[39;00m \u001b[39m1\u001b[39m\n\u001b[0;32m    237\u001b[0m total \u001b[39m=\u001b[39m \u001b[39mself\u001b[39m\u001b[39m.\u001b[39mtotal \u001b[39m*\u001b[39m unit_scale \u001b[39mif\u001b[39;00m \u001b[39mself\u001b[39m\u001b[39m.\u001b[39mtotal \u001b[39melse\u001b[39;00m \u001b[39mself\u001b[39m\u001b[39m.\u001b[39mtotal\n\u001b[1;32m--> 238\u001b[0m \u001b[39mself\u001b[39m\u001b[39m.\u001b[39mcontainer \u001b[39m=\u001b[39m \u001b[39mself\u001b[39;49m\u001b[39m.\u001b[39;49mstatus_printer(\u001b[39mself\u001b[39;49m\u001b[39m.\u001b[39;49mfp, total, \u001b[39mself\u001b[39;49m\u001b[39m.\u001b[39;49mdesc, \u001b[39mself\u001b[39;49m\u001b[39m.\u001b[39;49mncols)\n\u001b[0;32m    239\u001b[0m \u001b[39mself\u001b[39m\u001b[39m.\u001b[39mcontainer\u001b[39m.\u001b[39mpbar \u001b[39m=\u001b[39m proxy(\u001b[39mself\u001b[39m)\n\u001b[0;32m    240\u001b[0m \u001b[39mself\u001b[39m\u001b[39m.\u001b[39mdisplayed \u001b[39m=\u001b[39m \u001b[39mFalse\u001b[39;00m\n",
      "File \u001b[1;32mc:\\ProgramData\\miniconda3\\lib\\site-packages\\tqdm\\notebook.py:113\u001b[0m, in \u001b[0;36mtqdm_notebook.status_printer\u001b[1;34m(_, total, desc, ncols)\u001b[0m\n\u001b[0;32m    104\u001b[0m \u001b[39m# Fallback to text bar if there's no total\u001b[39;00m\n\u001b[0;32m    105\u001b[0m \u001b[39m# DEPRECATED: replaced with an 'info' style bar\u001b[39;00m\n\u001b[0;32m    106\u001b[0m \u001b[39m# if not total:\u001b[39;00m\n\u001b[1;32m   (...)\u001b[0m\n\u001b[0;32m    110\u001b[0m \n\u001b[0;32m    111\u001b[0m \u001b[39m# Prepare IPython progress bar\u001b[39;00m\n\u001b[0;32m    112\u001b[0m \u001b[39mif\u001b[39;00m IProgress \u001b[39mis\u001b[39;00m \u001b[39mNone\u001b[39;00m:  \u001b[39m# #187 #451 #558 #872\u001b[39;00m\n\u001b[1;32m--> 113\u001b[0m     \u001b[39mraise\u001b[39;00m \u001b[39mImportError\u001b[39;00m(WARN_NOIPYW)\n\u001b[0;32m    114\u001b[0m \u001b[39mif\u001b[39;00m total:\n\u001b[0;32m    115\u001b[0m     pbar \u001b[39m=\u001b[39m IProgress(\u001b[39mmin\u001b[39m\u001b[39m=\u001b[39m\u001b[39m0\u001b[39m, \u001b[39mmax\u001b[39m\u001b[39m=\u001b[39mtotal)\n",
      "\u001b[1;31mImportError\u001b[0m: IProgress not found. Please update jupyter and ipywidgets. See https://ipywidgets.readthedocs.io/en/stable/user_install.html"
     ]
    }
   ],
   "source": [
    "# https://pinyin.sogou.com/dict/cate/index/117\n",
    "\n",
    "idx = [119,117,103,108,109,110,111,112,114,115,117,118,123,125]\n",
    "dict_url_list1= []\n",
    "for idx, i in tqdm(enumerate(idx)):\n",
    "    num=1\n",
    "    while True:\n",
    "        url = f'https://pinyin.sogou.com/dict/cate/index/{idx}/default/{num}'\n",
    "        html = requests.get(url).text\n",
    "        tree = etree.HTML(html)\n",
    "        try:\n",
    "            for t, e in zip(tree.xpath('//div[@class=\"detail_title\"]/a/text()'), tree.xpath('//div[@class=\"dict_dl_btn\"]/a/@href')):\n",
    "                dict_url_list1.append((t, e))\n",
    "        except:\n",
    "            pass\n",
    "        if \"下一页\" in html:\n",
    "            num+=1\n",
    "        else:\n",
    "            break"
   ]
  },
  {
   "cell_type": "code",
   "execution_count": 4,
   "metadata": {},
   "outputs": [
    {
     "data": {
      "text/plain": [
       "[('建筑词汇大全【官方推荐】',\n",
       "  'https://pinyin.sogou.com/dict/download_cell.php?id=15118&name=%E5%BB%BA%E7%AD%91%E8%AF%8D%E6%B1%87%E5%A4%A7%E5%85%A8%E3%80%90%E5%AE%98%E6%96%B9%E6%8E%A8%E8%8D%90%E3%80%91'),\n",
       " ('建筑、结构',\n",
       "  'https://pinyin.sogou.com/dict/download_cell.php?id=10217&name=%E5%BB%BA%E7%AD%91%E3%80%81%E7%BB%93%E6%9E%84'),\n",
       " ('建筑及相关专业',\n",
       "  'https://pinyin.sogou.com/dict/download_cell.php?id=8618&name=%E5%BB%BA%E7%AD%91%E5%8F%8A%E7%9B%B8%E5%85%B3%E4%B8%93%E4%B8%9A'),\n",
       " ('建筑城市',\n",
       "  'https://pinyin.sogou.com/dict/download_cell.php?id=152&name=%E5%BB%BA%E7%AD%91%E5%9F%8E%E5%B8%82'),\n",
       " ('建筑结构',\n",
       "  'https://pinyin.sogou.com/dict/download_cell.php?id=1351&name=%E5%BB%BA%E7%AD%91%E7%BB%93%E6%9E%84'),\n",
       " ('建筑词库',\n",
       "  'https://pinyin.sogou.com/dict/download_cell.php?id=603&name=%E5%BB%BA%E7%AD%91%E8%AF%8D%E5%BA%93'),\n",
       " ('建筑电气',\n",
       "  'https://pinyin.sogou.com/dict/download_cell.php?id=1398&name=%E5%BB%BA%E7%AD%91%E7%94%B5%E6%B0%94'),\n",
       " ('建筑电气（住宅篇）',\n",
       "  'https://pinyin.sogou.com/dict/download_cell.php?id=5664&name=%E5%BB%BA%E7%AD%91%E7%94%B5%E6%B0%94%EF%BC%88%E4%BD%8F%E5%AE%85%E7%AF%87%EF%BC%89'),\n",
       " ('中国古建筑专业词库',\n",
       "  'https://pinyin.sogou.com/dict/download_cell.php?id=304&name=%E4%B8%AD%E5%9B%BD%E5%8F%A4%E5%BB%BA%E7%AD%91%E4%B8%93%E4%B8%9A%E8%AF%8D%E5%BA%93'),\n",
       " ('建筑资料',\n",
       "  'https://pinyin.sogou.com/dict/download_cell.php?id=10587&name=%E5%BB%BA%E7%AD%91%E8%B5%84%E6%96%99')]"
      ]
     },
     "execution_count": 4,
     "metadata": {},
     "output_type": "execute_result"
    }
   ],
   "source": [
    "dict_url_list[:10]"
   ]
  },
  {
   "cell_type": "code",
   "execution_count": 15,
   "metadata": {},
   "outputs": [],
   "source": [
    "import pandas as pd\n",
    "import numpy as np"
   ]
  },
  {
   "cell_type": "code",
   "execution_count": 68,
   "metadata": {},
   "outputs": [],
   "source": [
    "ques_list = []\n",
    "for i in range(1,7):\n",
    "    sheet_list = []\n",
    "    df = pd.read_excel(r\"D:\\Users\\Desktop\\语音场景相似句.xlsx\",engine='openpyxl',sheet_name=i)\n",
    "    for i in range(len(df)):\n",
    "        sheet_list.append([ques.split('\\n')[0].strip() for ques in  df.loc[i].to_list()[0:] if type(ques)!=float])\n",
    "    ques_list.append(sheet_list)"
   ]
  },
  {
   "cell_type": "code",
   "execution_count": 75,
   "metadata": {},
   "outputs": [],
   "source": [
    "with open(r'D:\\Users\\Desktop\\语音场景相似句_v1.txt','w') as f:\n",
    "    for ques in ques_list: \n",
    "        # f.write()\n",
    "        for q in ques:\n",
    "            f.write('\\n'.join(q)+'\\n')\n",
    "    "
   ]
  },
  {
   "cell_type": "code",
   "execution_count": 44,
   "metadata": {},
   "outputs": [
    {
     "data": {
      "text/plain": [
       "['哪些空调没关', '有空调没有关吗', '空调忘关的有哪些', '未关闭的空调的实验室有哪些']"
      ]
     },
     "execution_count": 44,
     "metadata": {},
     "output_type": "execute_result"
    }
   ],
   "source": [
    "t"
   ]
  }
 ],
 "metadata": {
  "kernelspec": {
   "display_name": "base",
   "language": "python",
   "name": "python3"
  },
  "language_info": {
   "codemirror_mode": {
    "name": "ipython",
    "version": 3
   },
   "file_extension": ".py",
   "mimetype": "text/x-python",
   "name": "python",
   "nbconvert_exporter": "python",
   "pygments_lexer": "ipython3",
   "version": "3.10.10"
  },
  "orig_nbformat": 4
 },
 "nbformat": 4,
 "nbformat_minor": 2
}
